{
 "cells": [
  {
   "cell_type": "code",
   "execution_count": 1,
   "metadata": {},
   "outputs": [],
   "source": [
    "import numpy as np\n",
    "import math\n",
    "import matplotlib.pyplot as plt\n",
    "from scipy.io.wavfile import read\n",
    "from scipy.signal import spectrogram, medfilt"
   ]
  },
  {
   "cell_type": "code",
   "execution_count": 2,
   "metadata": {},
   "outputs": [],
   "source": [
    "#Block audio function\n",
    "def  block_audio(x,blockSize,hopSize,fs):\n",
    "    # allocate memory\n",
    "    numBlocks = math.ceil(x.size / hopSize)\n",
    "    xb = np.zeros([numBlocks, blockSize])\n",
    "    # compute time stamps\n",
    "    t = (np.arange(0, numBlocks) * hopSize) / fs\n",
    "\n",
    "    x = np.concatenate((x, np.zeros(blockSize)),axis=0)\n",
    "\n",
    "    for n in range(0, numBlocks):\n",
    "        i_start = n * hopSize\n",
    "        i_stop = np.min([x.size - 1, i_start + blockSize - 1])\n",
    "\n",
    "        xb[n][np.arange(0,blockSize)] = x[np.arange(i_start, i_stop + 1)]\n",
    "\n",
    "    return (xb,t)"
   ]
  },
  {
   "cell_type": "code",
   "execution_count": 3,
   "metadata": {},
   "outputs": [],
   "source": [
    "#Hann window function\n",
    "def compute_hann(iWindowLength):\n",
    "    return 0.5 - (0.5 * np.cos(2 * np.pi / iWindowLength * np.arange(iWindowLength)))\n"
   ]
  },
  {
   "cell_type": "code",
   "execution_count": 4,
   "metadata": {},
   "outputs": [],
   "source": [
    "def compute_spectrogram(xb, fs):\n",
    "    (NumOfBlocks, blockSize) = xb.shape\n",
    "    FFT_point = blockSize\n",
    "    hann = compute_hann(blockSize)\n",
    "\n",
    "    fInHz, t, X = spectrogram(xb, fs, window=hann, nfft=FFT_point)\n",
    "\n",
    "    X = np.array(X)\n",
    "    X = np.squeeze(X, axis=2)\n",
    "    X = np.transpose(X)\n",
    "\n",
    "    fInHz = np.array(fInHz)\n",
    "\n",
    "    return (X, fInHz)"
   ]
  },
  {
   "cell_type": "code",
   "execution_count": 9,
   "metadata": {},
   "outputs": [],
   "source": [
    "def track_pitch_fftmax(x, blockSize, hopSize, fs):\n",
    "    (xb, timeInSec) = block_audio(x, blockSize, hopSize, fs)\n",
    "    (X, fInHz) = compute_spectrogram(xb, fs)\n",
    "\n",
    "    # get index of max magnitude within each block and the corresponding frequency\n",
    "    nBlocks = len(timeInSec)\n",
    "    f0 = np.zeros(nBlocks)\n",
    "    for block in range(0, nBlocks - 1):\n",
    "        i = np.argmax(X[:, block])\n",
    "        f0[block] = fInHz[i]\n",
    "    return (f0, timeInSec)"
   ]
  },
  {
   "cell_type": "code",
   "execution_count": 10,
   "metadata": {},
   "outputs": [],
   "source": [
    "#E1. generate a test signal (sine wave, f = 441 Hz from 0-1 sec and f = 882 Hz from 1-2 sec),\n",
    "\n",
    "fs = 44100\n",
    "timeA = np.linspace(start=0, stop=1, num=fs, endpoint=False)\n",
    "timeB = np.linspace(start=1, stop=2, num=fs, endpoint=False)\n",
    "\n",
    "# generate test signals at 441 Hz from 0 to 1 sec and 882 Hz from 1 to 2 sec\n",
    "testsignalA = np.sin(2 * np.pi * 441 * timeA)\n",
    "testsignalB = np.sin(2 * np.pi * 882 * timeB)\n",
    "\n",
    "# append arrays to create a 2 sec test signal\n",
    "testSignal = np.append(testsignalA, testsignalB)"
   ]
  },
  {
   "cell_type": "code",
   "execution_count": 11,
   "metadata": {},
   "outputs": [
    {
     "name": "stdout",
     "output_type": "stream",
     "text": [
      "xb shape= (173, 1024)\n",
      "timeInSec shape= (173,)\n",
      "X shape= (513, 173)\n",
      "fInHz shape= (513,)\n"
     ]
    }
   ],
   "source": [
    "#check dimensions of vectors created by functions above \n",
    "(xb, timeInSec) = block_audio(x=testSignal, blockSize=1024, hopSize=512, fs=44100)\n",
    "print('xb shape=',xb.shape)\n",
    "print('timeInSec shape=',timeInSec.shape)\n",
    "(X, fInHz) = compute_spectrogram(xb=xb, fs=44100)\n",
    "print ('X shape=',X.shape)\n",
    "print('fInHz shape=',fInHz.shape)"
   ]
  },
  {
   "cell_type": "code",
   "execution_count": 12,
   "metadata": {},
   "outputs": [],
   "source": [
    "(f0TestMaxPeak,timeTestMaxPeak)=track_pitch_fftmax(x=testSignal,blockSize=1024,hopSize=512,fs=44100)"
   ]
  },
  {
   "cell_type": "code",
   "execution_count": 13,
   "metadata": {},
   "outputs": [
    {
     "name": "stdout",
     "output_type": "stream",
     "text": [
      "f0TestMaxPeak first few elements [430.6640625 430.6640625 430.6640625 430.6640625 430.6640625 430.6640625\n",
      " 430.6640625 430.6640625 430.6640625 430.6640625]\n",
      "timetestMaxPeak first few elements [0.         0.01160998 0.02321995 0.03482993 0.04643991 0.05804989\n",
      " 0.06965986 0.08126984 0.09287982 0.1044898 ]\n"
     ]
    }
   ],
   "source": [
    "print('f0TestMaxPeak first few elements',f0TestMaxPeak[0:10])\n",
    "print('timetestMaxPeak first few elements',timeTestMaxPeak[0:10])"
   ]
  },
  {
   "cell_type": "code",
   "execution_count": 14,
   "metadata": {},
   "outputs": [
    {
     "data": {
      "text/plain": [
       "861.328125"
      ]
     },
     "execution_count": 14,
     "metadata": {},
     "output_type": "execute_result"
    }
   ],
   "source": [
    "max(f0TestMaxPeak)"
   ]
  },
  {
   "cell_type": "code",
   "execution_count": 15,
   "metadata": {},
   "outputs": [
    {
     "data": {
      "text/plain": [
       "0.0"
      ]
     },
     "execution_count": 15,
     "metadata": {},
     "output_type": "execute_result"
    }
   ],
   "source": [
    "min(f0TestMaxPeak)"
   ]
  },
  {
   "cell_type": "code",
   "execution_count": 16,
   "metadata": {},
   "outputs": [],
   "source": [
    "nBlocks=len(timeInSec)\n",
    "trueF=np.zeros(nBlocks)\n",
    "for i in range(0,nBlocks-1):\n",
    "    if timeInSec[i]<1:\n",
    "        trueF[i]=440\n",
    "    else:\n",
    "        trueF[i]=880        "
   ]
  },
  {
   "cell_type": "code",
   "execution_count": 17,
   "metadata": {},
   "outputs": [
    {
     "data": {
      "text/plain": [
       "<function matplotlib.pyplot.show(*args, **kw)>"
      ]
     },
     "execution_count": 17,
     "metadata": {},
     "output_type": "execute_result"
    },
    {
     "data": {
      "image/png": "[encoded data removed]",
      "text/plain": [
       "<Figure size 432x288 with 1 Axes>"
      ]
     },
     "metadata": {
      "needs_background": "light"
     },
     "output_type": "display_data"
    }
   ],
   "source": [
    "plt.plot(timeInSec,f0TestMaxPeak,label=\"Estimated from Max FFT\")\n",
    "plt.plot(timeInSec,trueF, label=\"True Value\")\n",
    "plt.xlabel('Time (seconds)')\n",
    "plt.ylabel('Estimated Frequency (Hz)')\n",
    "plt.title('Estimated Frequency of Test Signal: Max FFT Method')\n",
    "plt.legend()\n",
    "plt.show   "
   ]
  },
  {
   "cell_type": "code",
   "execution_count": 18,
   "metadata": {},
   "outputs": [],
   "source": [
    "def audio_read(path):\n",
    "    samplerate, x = read(path)\n",
    "    if x.dtype == 'float32':\n",
    "        audio = x\n",
    "    else:\n",
    "        # change range to [-1,1)\n",
    "        if x.dtype == 'uint8':\n",
    "            nbits = 8\n",
    "        elif x.dtype == 'int16':\n",
    "            nbits = 16\n",
    "        elif x.dtype == 'int32':\n",
    "            nbits = 32\n",
    "\n",
    "        audio = x / float(2**(nbits - 1))\n",
    "\n",
    "    # special case of unsigned format\n",
    "    if x.dtype == 'uint8':\n",
    "        audio = audio - 1.\n",
    "\n",
    "    if audio.ndim > 1:\n",
    "        audio = audio[:, 0]\n",
    "\n",
    "    return samplerate, audio"
   ]
  },
  {
   "cell_type": "code",
   "execution_count": 19,
   "metadata": {},
   "outputs": [
    {
     "name": "stderr",
     "output_type": "stream",
     "text": [
      "C:\\ProgramData\\Anaconda3\\lib\\site-packages\\scipy\\io\\wavfile.py:273: WavFileWarning: Chunk (non-data) not understood, skipping it.\n",
      "  WavFileWarning)\n"
     ]
    }
   ],
   "source": [
    "#test on one file from the training dataset\n",
    "fs, audio = audio_read('C:/Users/Laney/Documents/6201_comp_mus_analysis/Assignments/Assignment 3/data/traindata/01-D_AMairena.wav')\n",
    "(f0Mairena,timeMairena)=track_pitch_fftmax(x=audio,blockSize=1024,hopSize=512,fs=fs)"
   ]
  },
  {
   "cell_type": "code",
   "execution_count": 20,
   "metadata": {},
   "outputs": [],
   "source": [
    "#function to read labels from annotation file\n",
    "def read_label(path, estimateTime):\n",
    "\n",
    "        es_idx = 0\n",
    "        pre = -1\n",
    "\n",
    "        oup = []\n",
    "        time = []\n",
    "        f = open(path, \"r\")\n",
    "        for x in f:\n",
    "            time = float(x.split('     ')[0])\n",
    "            if es_idx < len(estimateTime):\n",
    "                while es_idx < len(estimateTime) and estimateTime[es_idx] < time and estimateTime[es_idx] > pre:\n",
    "                    oup.append(x.split('     ')[2])\n",
    "                    pre = estimateTime[es_idx]\n",
    "                    es_idx+=1\n",
    "        return oup"
   ]
  },
  {
   "cell_type": "code",
   "execution_count": 21,
   "metadata": {},
   "outputs": [],
   "source": [
    "#get annotated data\n",
    "gtHz = np.array(read_label('C:/Users/Laney/Documents/6201_comp_mus_analysis/Assignments/Assignment 3/data/traindata/01-D_AMairena.f0.Corrected.txt',timeMairena)).astype(np.float)"
   ]
  },
  {
   "cell_type": "code",
   "execution_count": 22,
   "metadata": {},
   "outputs": [
    {
     "data": {
      "text/plain": [
       "<function matplotlib.pyplot.show(*args, **kw)>"
      ]
     },
     "execution_count": 22,
     "metadata": {},
     "output_type": "execute_result"
    },
    {
     "data": {
      "image/png": "[encoded data removed]",
      "text/plain": [
       "<Figure size 432x288 with 1 Axes>"
      ]
     },
     "metadata": {
      "needs_background": "light"
     },
     "output_type": "display_data"
    }
   ],
   "source": [
    "plt.plot(timeMairena,f0Mairena,label=\"Estimated from Max FFT\")\n",
    "plt.plot(timeMairena,gtHz, label=\"True Value\")\n",
    "plt.xlabel('Time (seconds)')\n",
    "plt.ylabel('Estimated Frequency (Hz)')\n",
    "plt.title('Estimated Frequency of 01-D_AMairena.wav: Max FFT Method')\n",
    "plt.legend()\n",
    "plt.show  "
   ]
  },
  {
   "cell_type": "code",
   "execution_count": 20,
   "metadata": {},
   "outputs": [],
   "source": [
    "#D1. eval_voiced_fp computes the percentage of false positives for the fundamental frequency estimation\n",
    "def eval_voiced_fp(estimation, annotation):\n",
    "    #denominator = num blocks with annotation = 0\n",
    "    denom=(annotation==0).sum()\n",
    "    n=len(annotation)\n",
    "    #create a vector to define which blocks in the denominator are also in the numerator (value=1 if it is in the numerator)\n",
    "    numvector=np.zeros(n)\n",
    "    for i in range(0,n-1):\n",
    "        if (annotation[i]==0) & (estimation[i]!=0):\n",
    "            numvector[i]=1\n",
    "    #numerator = num blocks in the denominator with fundamental freq not equal to 0\n",
    "    num=(numvector==1).sum()\n",
    "    pfp=num/denom\n",
    "    print('denom (N with annotation=0)=',denom)\n",
    "    print('num (N with annotation=0 and estimation not 0)=',num)\n",
    "    print('pfp=',pfp)\n",
    "    return pfp\n",
    "\n",
    "#D2. eval_voiced_fn computes the percentage of false negatives\n",
    "def eval_voiced_fn(estimation, annotation):\n",
    "    #denominator = num blocks with non-zero fundamental frequency in the annotation.\n",
    "    denom=(annotation!=0).sum()\n",
    "    n = len(annotation)\n",
    "    # create a vector to define which blocks in the denominator are also in the numerator (value=1 if in the numerator)\n",
    "    numvector = np.zeros(n)\n",
    "    for i in range(0, n - 1):\n",
    "        if (annotation[i] != 0) & (estimation[i] == 0):\n",
    "            numvector[i] = 1\n",
    "    #numerator = num blocks in denominator that were detected as zero\n",
    "    num=(numvector==1).sum()\n",
    "    pfn=num/denom\n",
    "    print('denom (N with annotation not 0)=',denom)\n",
    "    print('num (N with annotation not 0 and estimation=0)=',num)\n",
    "    print('pfn=',pfn)\n",
    "    return pfn"
   ]
  },
  {
   "cell_type": "code",
   "execution_count": 21,
   "metadata": {},
   "outputs": [
    {
     "name": "stdout",
     "output_type": "stream",
     "text": [
      "denom (N with annotation not 0)= 1982\n",
      "num (N with annotation not 0 and estimation=0)= 0\n",
      "pfn= 0.0\n"
     ]
    },
    {
     "data": {
      "text/plain": [
       "0.0"
      ]
     },
     "execution_count": 21,
     "metadata": {},
     "output_type": "execute_result"
    }
   ],
   "source": [
    "eval_voiced_fn(estimation=f0Mairena,annotation=gtHz)"
   ]
  },
  {
   "cell_type": "code",
   "execution_count": 22,
   "metadata": {},
   "outputs": [
    {
     "name": "stdout",
     "output_type": "stream",
     "text": [
      "denom (N with annotation=0)= 242\n",
      "num (N with annotation=0 and estimation not 0)= 242\n",
      "pfp= 1.0\n"
     ]
    },
    {
     "data": {
      "text/plain": [
       "1.0"
      ]
     },
     "execution_count": 22,
     "metadata": {},
     "output_type": "execute_result"
    }
   ],
   "source": [
    "eval_voiced_fp(estimation=f0Mairena,annotation=gtHz)"
   ]
  },
  {
   "cell_type": "code",
   "execution_count": 24,
   "metadata": {},
   "outputs": [
    {
     "data": {
      "text/plain": [
       "2223"
      ]
     },
     "execution_count": 24,
     "metadata": {},
     "output_type": "execute_result"
    }
   ],
   "source": [
    "(f0Mairena!=0).sum()"
   ]
  },
  {
   "cell_type": "code",
   "execution_count": 25,
   "metadata": {},
   "outputs": [
    {
     "data": {
      "text/plain": [
       "1982"
      ]
     },
     "execution_count": 25,
     "metadata": {},
     "output_type": "execute_result"
    }
   ],
   "source": [
    "(gtHz!=0).sum()"
   ]
  },
  {
   "cell_type": "code",
   "execution_count": 26,
   "metadata": {},
   "outputs": [
    {
     "data": {
      "text/plain": [
       "1"
      ]
     },
     "execution_count": 26,
     "metadata": {},
     "output_type": "execute_result"
    }
   ],
   "source": [
    "(f0Mairena==0).sum()"
   ]
  },
  {
   "cell_type": "code",
   "execution_count": 27,
   "metadata": {},
   "outputs": [
    {
     "data": {
      "text/plain": [
       "242"
      ]
     },
     "execution_count": 27,
     "metadata": {},
     "output_type": "execute_result"
    }
   ],
   "source": [
    "(gtHz==0).sum()"
   ]
  },
  {
   "cell_type": "code",
   "execution_count": 28,
   "metadata": {},
   "outputs": [
    {
     "data": {
      "text/plain": [
       "2224"
      ]
     },
     "execution_count": 28,
     "metadata": {},
     "output_type": "execute_result"
    }
   ],
   "source": [
    "len(f0Mairena)"
   ]
  },
  {
   "cell_type": "code",
   "execution_count": 29,
   "metadata": {},
   "outputs": [
    {
     "data": {
      "text/plain": [
       "2224"
      ]
     },
     "execution_count": 29,
     "metadata": {},
     "output_type": "execute_result"
    }
   ],
   "source": [
    "len(gtHz)"
   ]
  },
  {
   "cell_type": "code",
   "execution_count": 30,
   "metadata": {},
   "outputs": [
    {
     "data": {
      "text/plain": [
       "array([43.06640625, 43.06640625, 43.06640625, 43.06640625, 43.06640625,\n",
       "       43.06640625, 43.06640625, 43.06640625, 43.06640625, 86.1328125 ,\n",
       "       43.06640625, 43.06640625, 43.06640625, 43.06640625, 43.06640625,\n",
       "       43.06640625, 43.06640625, 43.06640625, 43.06640625, 86.1328125 ])"
      ]
     },
     "execution_count": 30,
     "metadata": {},
     "output_type": "execute_result"
    }
   ],
   "source": [
    "f0Mairena[0:20]"
   ]
  },
  {
   "cell_type": "code",
   "execution_count": 31,
   "metadata": {},
   "outputs": [
    {
     "data": {
      "text/plain": [
       "array([  0.   ,   0.   ,   0.   ,   0.   ,   0.   ,   0.   ,   0.   ,\n",
       "         0.   ,   0.   ,   0.   ,   0.   ,   0.   ,   0.   ,   0.   ,\n",
       "         0.   ,   0.   ,   0.   ,   0.   ,   0.   , 143.918])"
      ]
     },
     "execution_count": 31,
     "metadata": {},
     "output_type": "execute_result"
    }
   ],
   "source": [
    "gtHz[0:20]"
   ]
  },
  {
   "cell_type": "code",
   "execution_count": null,
   "metadata": {},
   "outputs": [],
   "source": []
  }
 ],
 "metadata": {
  "kernelspec": {
   "display_name": "Python 3",
   "language": "python",
   "name": "python3"
  },
  "language_info": {
   "codemirror_mode": {
    "name": "ipython",
    "version": 3
   },
   "file_extension": ".py",
   "mimetype": "text/x-python",
   "name": "python",
   "nbconvert_exporter": "python",
   "pygments_lexer": "ipython3",
   "version": "3.7.3"
  }
 },
 "nbformat": 4,
 "nbformat_minor": 2
}
