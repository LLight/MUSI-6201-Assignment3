{
 "cells": [
  {
   "cell_type": "code",
   "execution_count": 10,
   "metadata": {},
   "outputs": [],
   "source": [
    "import numpy as np\n",
    "import math\n",
    "import matplotlib.pyplot as plt\n",
    "from scipy.io.wavfile import read\n",
    "from scipy.signal import spectrogram"
   ]
  },
  {
   "cell_type": "code",
   "execution_count": 11,
   "metadata": {},
   "outputs": [],
   "source": [
    "#Block audio function\n",
    "def  block_audio(x,blockSize,hopSize,fs):\n",
    "    # allocate memory\n",
    "    numBlocks = math.ceil(x.size / hopSize)\n",
    "    xb = np.zeros([numBlocks, blockSize])\n",
    "    # compute time stamps\n",
    "    t = (np.arange(0, numBlocks) * hopSize) / fs\n",
    "\n",
    "    x = np.concatenate((x, np.zeros(blockSize)),axis=0)\n",
    "\n",
    "    for n in range(0, numBlocks):\n",
    "        i_start = n * hopSize\n",
    "        i_stop = np.min([x.size - 1, i_start + blockSize - 1])\n",
    "\n",
    "        xb[n][np.arange(0,blockSize)] = x[np.arange(i_start, i_stop + 1)]\n",
    "\n",
    "    return (xb,t)"
   ]
  },
  {
   "cell_type": "code",
   "execution_count": 12,
   "metadata": {},
   "outputs": [],
   "source": [
    "#Hann window function\n",
    "def compute_hann(iWindowLength):\n",
    "    return 0.5 - (0.5 * np.cos(2 * np.pi / iWindowLength * np.arange(iWindowLength)))\n"
   ]
  },
  {
   "cell_type": "code",
   "execution_count": 75,
   "metadata": {},
   "outputs": [],
   "source": [
    "def compute_spectrogram(xb, fs):\n",
    "    (NumOfBlocks, blockSize) = xb.shape\n",
    "    hann=compute_hann(iWindowLength=blockSize)\n",
    "    fInHz, t, X = spectrogram(xb, fs, window=hann, nfft=blockSize)\n",
    "##need to move the plt and print statements to main section at the end\n",
    "    #plt.pcolormesh(t, fInHz, X)\n",
    "    #plt.ylabel('Frequency [Hz]')\n",
    "    #plt.xlabel('Time [sec]')\n",
    "    #plt.show()\n",
    "    X = np.array(X)\n",
    "    fInHz = np.array(fInHz)\n",
    "    #print(X.shape)\n",
    "    #print(fInHz.shape)\n",
    "    return (X, fInHz)"
   ]
  },
  {
   "cell_type": "code",
   "execution_count": 76,
   "metadata": {},
   "outputs": [],
   "source": [
    "def track_pitch_fftmax(x, blockSize, hopSize, fs):\n",
    "    (xb, timeInSec) = block_audio(x, blockSize, hopSize, fs)\n",
    "    (X, fInHz) = compute_spectrogram(xb, fs)\n",
    "\n",
    "    # get index of max magnitude within each block and the corresponding frequency \n",
    "    nBlocks=len(timeInSec)\n",
    "    f0=np.zeros(nBlocks)\n",
    "    for block in range (0,nBlocks-1):\n",
    "        i=np.argmax(X[block,:,0])\n",
    "        f0[block]=fInHz[i]\n",
    "        \n",
    "    return (f0,timeInSec)"
   ]
  },
  {
   "cell_type": "code",
   "execution_count": 110,
   "metadata": {},
   "outputs": [],
   "source": [
    "#E1. generate a test signal (sine wave, f = 441 Hz from 0-1 sec and f = 882 Hz from 1-2 sec),\n",
    "\n",
    "fs = 44100\n",
    "timeA = np.linspace(start=0, stop=1, num=fs, endpoint=False)\n",
    "timeB = np.linspace(start=1, stop=2, num=fs, endpoint=False)\n",
    "\n",
    "# generate test signals at 441 Hz from 0 to 1 sec and 882 Hz from 1 to 2 sec\n",
    "testsignalA = np.sin(2 * np.pi * 441 * timeA)\n",
    "testsignalB = np.sin(2 * np.pi * 882 * timeB)\n",
    "\n",
    "# append arrays to create a 2 sec test signal\n",
    "testSignal = np.append(testsignalA, testsignalB)"
   ]
  },
  {
   "cell_type": "code",
   "execution_count": 111,
   "metadata": {},
   "outputs": [
    {
     "name": "stdout",
     "output_type": "stream",
     "text": [
      "xb shape= (173, 1024)\n",
      "timeInSec shape= (173,)\n",
      "X shape= (173, 513, 1)\n",
      "fInHz shape= (513,)\n"
     ]
    }
   ],
   "source": [
    "#check dimensions of vectors created by functions above \n",
    "(xb, timeInSec) = block_audio(x=testSignal, blockSize=1024, hopSize=512, fs=44100)\n",
    "print('xb shape=',xb.shape)\n",
    "print('timeInSec shape=',timeInSec.shape)\n",
    "(X, fInHz) = compute_spectrogram(xb=xb, fs=44100)\n",
    "print ('X shape=',X.shape)\n",
    "print('fInHz shape=',fInHz.shape)"
   ]
  },
  {
   "cell_type": "code",
   "execution_count": 112,
   "metadata": {},
   "outputs": [],
   "source": [
    "(f0TestMaxPeak,timeTestMaxPeak)=track_pitch_fftmax(x=testSignal,blockSize=1024,hopSize=512,fs=44100)"
   ]
  },
  {
   "cell_type": "code",
   "execution_count": 113,
   "metadata": {},
   "outputs": [
    {
     "name": "stdout",
     "output_type": "stream",
     "text": [
      "f0TestMaxPeak first few elements [430.6640625 430.6640625 430.6640625 430.6640625 430.6640625 430.6640625\n",
      " 430.6640625 430.6640625 430.6640625 430.6640625]\n",
      "timetestMaxPeak first few elements [0.         0.01160998 0.02321995 0.03482993 0.04643991 0.05804989\n",
      " 0.06965986 0.08126984 0.09287982 0.1044898 ]\n"
     ]
    }
   ],
   "source": [
    "print('f0TestMaxPeak first few elements',f0TestMaxPeak[0:10])\n",
    "print('timetestMaxPeak first few elements',timeTestMaxPeak[0:10])"
   ]
  },
  {
   "cell_type": "code",
   "execution_count": 114,
   "metadata": {},
   "outputs": [
    {
     "data": {
      "text/plain": [
       "861.328125"
      ]
     },
     "execution_count": 114,
     "metadata": {},
     "output_type": "execute_result"
    }
   ],
   "source": [
    "max(f0TestMaxPeak)"
   ]
  },
  {
   "cell_type": "code",
   "execution_count": 115,
   "metadata": {},
   "outputs": [
    {
     "data": {
      "text/plain": [
       "0.0"
      ]
     },
     "execution_count": 115,
     "metadata": {},
     "output_type": "execute_result"
    }
   ],
   "source": [
    "min(f0TestMaxPeak)"
   ]
  },
  {
   "cell_type": "code",
   "execution_count": 116,
   "metadata": {},
   "outputs": [],
   "source": [
    "nBlocks=len(timeInSec)\n",
    "trueF=np.zeros(nBlocks)\n",
    "for i in range(0,nBlocks-1):\n",
    "    if timeInSec[i]<1:\n",
    "        trueF[i]=440\n",
    "    else:\n",
    "        trueF[i]=880        "
   ]
  },
  {
   "cell_type": "code",
   "execution_count": 102,
   "metadata": {},
   "outputs": [
    {
     "data": {
      "text/plain": [
       "<function matplotlib.pyplot.show(*args, **kw)>"
      ]
     },
     "execution_count": 102,
     "metadata": {},
     "output_type": "execute_result"
    },
    {
     "data": {
      "image/png": "[encoded data removed]",
      "text/plain": [
       "<Figure size 432x288 with 1 Axes>"
      ]
     },
     "metadata": {
      "needs_background": "light"
     },
     "output_type": "display_data"
    }
   ],
   "source": [
    "plt.plot(timeInSec,f0TestMaxPeak,label=\"Estimated from Max FFT\")\n",
    "plt.plot(timeInSec,trueF, label=\"True Value\")\n",
    "plt.xlabel('Time (seconds)')\n",
    "plt.ylabel('Estimated Frequency (Hz)')\n",
    "plt.title('Estimated Frequency of Test Signal: Max FFT Method')\n",
    "plt.legend()\n",
    "plt.show   "
   ]
  }
 ],
 "metadata": {
  "kernelspec": {
   "display_name": "Python 3",
   "language": "python",
   "name": "python3"
  },
  "language_info": {
   "codemirror_mode": {
    "name": "ipython",
    "version": 3
   },
   "file_extension": ".py",
   "mimetype": "text/x-python",
   "name": "python",
   "nbconvert_exporter": "python",
   "pygments_lexer": "ipython3",
   "version": "3.7.3"
  }
 },
 "nbformat": 4,
 "nbformat_minor": 2
}
